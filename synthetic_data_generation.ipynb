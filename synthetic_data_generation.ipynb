import pandas as pd
from scripts.generate_synthetic_data import load_data, generate_synthetic_data

# Load original data
data = load_data('data/raw_data.csv')

# Generate synthetic data
synthetic_data = generate_synthetic_data(data)

# Show sample synthetic data
synthetic_data.head()
